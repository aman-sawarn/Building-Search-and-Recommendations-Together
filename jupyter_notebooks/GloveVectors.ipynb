{
 "cells": [
  {
   "cell_type": "code",
   "execution_count": 37,
   "id": "81bcdf5e",
   "metadata": {},
   "outputs": [],
   "source": [
    "import numpy as np\n",
    "# import gensim/\n",
    "import seaborn as sns\n",
    "import re\n",
    "from bs4 import BeautifulSoup\n",
    "import matplotlib.pyplot as plt\n",
    "plt.rcParams['figure.figsize'] = [10, 5]\n",
    "import warnings\n",
    "warnings.filterwarnings(\"ignore\")\n",
    "import requests\n",
    "import gensim\n",
    "import pprint\n",
    "from bs4 import BeautifulSoup\n",
    "from gensim.test.utils import datapath, get_tmpfile\n",
    "from gensim.models import KeyedVectors\n",
    "from gensim.scripts.glove2word2vec import glove2word2vec\n",
    "import random\n",
    "import scipy as sp\n",
    "from sklearn.decomposition import TruncatedSVD\n",
    "from sklearn.decomposition import PCA\n",
    "import pandas as pd\n"
   ]
  },
  {
   "cell_type": "markdown",
   "id": "8932d409",
   "metadata": {},
   "source": [
    "### Loading GloVE model from .txt"
   ]
  },
  {
   "cell_type": "code",
   "execution_count": 2,
   "id": "8cfec9f2",
   "metadata": {},
   "outputs": [],
   "source": [
    "\n",
    "def load_glove_model(File):\n",
    "    print(\"Loading Glove Model\")\n",
    "    glove_model = {}\n",
    "    with open(File,'r') as f:\n",
    "        for line in f:\n",
    "            split_line = line.split()\n",
    "            word = split_line[0]\n",
    "            embedding = np.array(split_line[1:], dtype=np.float64)\n",
    "            glove_model[word] = embedding\n",
    "    print(f\"{len(glove_model)} words loaded!\")\n",
    "    return glove_model"
   ]
  },
  {
   "cell_type": "code",
   "execution_count": 3,
   "id": "f18d3446",
   "metadata": {},
   "outputs": [
    {
     "name": "stdout",
     "output_type": "stream",
     "text": [
      "Loading Glove Model\n",
      "400000 words loaded!\n"
     ]
    }
   ],
   "source": [
    "glove_model=load_glove_model(\"/Users/amansawarn/Documents/tech/iitd/Building-Search-and-Recommendations-Together/glove_6B/glove.6B.50d.txt\")\n",
    "\n"
   ]
  },
  {
   "cell_type": "code",
   "execution_count": 18,
   "id": "be225634",
   "metadata": {},
   "outputs": [
    {
     "data": {
      "text/plain": [
       "array([ 0.50451 ,  0.68607 , -0.59517 , -0.022801,  0.60046 , -0.13498 ,\n",
       "       -0.08813 ,  0.47377 , -0.61798 , -0.31012 , -0.076666,  1.493   ,\n",
       "       -0.034189, -0.98173 ,  0.68229 ,  0.81722 , -0.51874 , -0.31503 ,\n",
       "       -0.55809 ,  0.66421 ,  0.1961  , -0.13495 , -0.11476 , -0.30344 ,\n",
       "        0.41177 , -2.223   , -1.0756  , -1.0783  , -0.34354 ,  0.33505 ,\n",
       "        1.9927  , -0.04234 , -0.64319 ,  0.71125 ,  0.49159 ,  0.16754 ,\n",
       "        0.34344 , -0.25663 , -0.8523  ,  0.1661  ,  0.40102 ,  1.1685  ,\n",
       "       -1.0137  , -0.21585 , -0.15155 ,  0.78321 , -0.91241 , -1.6106  ,\n",
       "       -0.64426 , -0.51042 ])"
      ]
     },
     "execution_count": 18,
     "metadata": {},
     "output_type": "execute_result"
    }
   ],
   "source": [
    "glove_model['king']"
   ]
  },
  {
   "cell_type": "code",
   "execution_count": 28,
   "id": "b6614f6f",
   "metadata": {},
   "outputs": [],
   "source": [
    "def plot_embeddings(glove_model, words):\n",
    "    \"\"\" Plot in a scatterplot the embeddings of the words specified in the list \"words\".\n",
    "        NOTE: do not plot all the words listed in M_reduced / word2Ind.\n",
    "        Include a label next to each point.\n",
    "        \n",
    "        Params:\n",
    "            M_reduced (numpy matrix of shape (number of unique words in the corpus , k)): matrix of k-dimensioal word embeddings\n",
    "            word2Ind (dict): dictionary that maps word to indices for matrix M\n",
    "            words (list of strings): words whose embeddings we want to visualize\n",
    "    \"\"\"\n",
    "\n",
    "    # ------------------\n",
    "    # Write your implementation here.\n",
    "    # simulating a pandas df['type'] column\n",
    "    \n",
    "    for word in words:\n",
    "        x = reduce_to_k_dim(glove_model[word].reshape(1, -1))\n",
    "        y = reduce_to_k_dim(glove_model[word].reshape(1, -1))\n",
    "        plt.scatter(x, y, marker='x', color='red')\n",
    "        plt.text(x+0.0001, y+0.0001, word, fontsize=20)\n",
    "    plt.show()\n",
    "\n",
    "    # ------------------\n",
    "    \n",
    "def reduce_to_k_dim(M, k=2):\n",
    "    \"\"\" Reduces a M dimension Vector to k dimension using the following SVD function from Scikit-Learn:\n",
    "            - http://scikit-learn.org/stable/modules/generated/sklearn.decomposition.TruncatedSVD.html\n",
    "    \n",
    "        Params:\n",
    "            M (numpy array): Embedding Vector Size\n",
    "            k (int): embedding size of each word after dimension reduction\n",
    "        Return:\n",
    "            M_reduced (numpy matrix of shape (number of corpus words, k)): matrix of k-dimensioal word embeddings.\n",
    "                    In terms of the SVD from math class, this actually returns U * S\n",
    "    \"\"\"    \n",
    "    n_iters = 10     # Use this parameter in your call to `TruncatedSVD`\n",
    "    M_reduced = None\n",
    "#     print(\"Running Truncated SVD over %i words...\" % (M.shape[0]))\n",
    "    \n",
    "#     pca=PCA(n_components=2)\n",
    "#     M_reduced= pca.fit_transform(M)\n",
    "    svd = TruncatedSVD(n_components=k)\n",
    "    M_reduced = svd.fit_transform(M)\n",
    "    \n",
    "    # ------------------\n",
    "\n",
    "  \n",
    "    return M_reduced"
   ]
  },
  {
   "cell_type": "code",
   "execution_count": 27,
   "id": "83b0c17c",
   "metadata": {},
   "outputs": [
    {
     "name": "stdout",
     "output_type": "stream",
     "text": [
      "--------------------------------------------------------------------------------\n",
      "Outputted Plot:\n"
     ]
    },
    {
     "data": {
      "image/png": "[encoded data removed]",
      "text/plain": [
       "<Figure size 720x360 with 1 Axes>"
      ]
     },
     "metadata": {
      "needs_background": "light"
     },
     "output_type": "display_data"
    },
    {
     "name": "stdout",
     "output_type": "stream",
     "text": [
      "--------------------------------------------------------------------------------\n"
     ]
    }
   ],
   "source": [
    "print (\"-\" * 80)\n",
    "print (\"Outputted Plot:\")\n",
    "\n",
    "M_reduced_plot_test = np.array([[1, 1], [-1, -1], [1, -1], [-1, 1], [0, 0]])\n",
    "word2Ind_plot_test = {'test1': 0, 'test2': 1, 'test3': 2, 'test4': 3, 'test5': 4}\n",
    "words = ['test1', 'test2', 'test3', 'test4', 'test5']\n",
    "words=['king', 'queen', 'madrid', 'madrid', 'lisbon']\n",
    "plot_embeddings(glove_model, words)\n",
    "\n",
    "print (\"-\" * 80)"
   ]
  },
  {
   "cell_type": "code",
   "execution_count": 7,
   "id": "43d8c47f",
   "metadata": {},
   "outputs": [
    {
     "name": "stdout",
     "output_type": "stream",
     "text": [
      "Running Truncated SVD over 1 words...\n",
      "Done.\n",
      "Running Truncated SVD over 1 words...\n",
      "Done.\n"
     ]
    },
    {
     "name": "stderr",
     "output_type": "stream",
     "text": [
      "/Users/amansawarn/opt/anaconda3/lib/python3.9/site-packages/sklearn/decomposition/_truncated_svd.py:234: RuntimeWarning: invalid value encountered in true_divide\n",
      "  self.explained_variance_ratio_ = exp_var / full_var\n",
      "/Users/amansawarn/opt/anaconda3/lib/python3.9/site-packages/sklearn/decomposition/_truncated_svd.py:234: RuntimeWarning: invalid value encountered in true_divide\n",
      "  self.explained_variance_ratio_ = exp_var / full_var\n"
     ]
    }
   ],
   "source": [
    "e1=reduce_to_k_dim(glove_model['queen'].reshape(1, -1))\n",
    "e2=reduce_to_k_dim(glove_model['king'].reshape(1, -1))"
   ]
  },
  {
   "cell_type": "code",
   "execution_count": 8,
   "id": "e4c7cb03",
   "metadata": {},
   "outputs": [
    {
     "name": "stderr",
     "output_type": "stream",
     "text": [
      "/var/folders/zn/4zzj_7js7351yjh2d0dss37h0000gn/T/ipykernel_46355/1887357479.py:4: DeprecationWarning: Call to deprecated `glove2word2vec` (KeyedVectors.load_word2vec_format(.., binary=False, no_header=True) loads GLoVE text vectors.).\n",
      "  _ = glove2word2vec(glove_file, tmp_file)\n"
     ]
    }
   ],
   "source": [
    "\n",
    "\n",
    "glove_file = datapath('/Users/amansawarn/Documents/tech/iitd/Building-Search-and-Recommendations-Together/glove_6B/glove.6B.50d.txt')\n",
    "tmp_file = get_tmpfile(\"test_word2vec.txt\")\n",
    "\n",
    "_ = glove2word2vec(glove_file, tmp_file)\n",
    "\n",
    "model = KeyedVectors.load_word2vec_format(tmp_file)\n"
   ]
  },
  {
   "cell_type": "code",
   "execution_count": 32,
   "id": "075cab35",
   "metadata": {},
   "outputs": [
    {
     "name": "stdout",
     "output_type": "stream",
     "text": [
      "Synonyms magic, trickery have cosine distance: 0.7891970723867416\n",
      "Antonyms magic, reality have cosine distance: 0.7379191219806671\n",
      "=*=*=*=*=*=*=*=*=*=*=*=*=*=*=*=*=*=*=*=*=*=*=*=*=*=*=*=*=*=*=*=*=*=*=*=*=*=*=*=*\n",
      "Synonyms london, trickery have cosine distance: 1.0854259356856346\n",
      "Antonyms london, reality have cosine distance: 0.9164830222725868\n"
     ]
    }
   ],
   "source": [
    "w1 = \"magic\"\n",
    "w2 = \"trickery\"\n",
    "w3 = \"reality\"\n",
    "w1_w2_dist = model.distance(w1, w2)\n",
    "w1_w3_dist = model.distance(w1, w3)\n",
    "\n",
    "print(\"Synonyms {}, {} have cosine distance: {}\".format(w1, w2, w1_w2_dist))\n",
    "print(\"Antonyms {}, {} have cosine distance: {}\".format(w1, w3, w1_w3_dist))\n",
    "print(\"=*\"*40)\n",
    "\n",
    "w1 = \"london\"\n",
    "w2 = \"trickery\"\n",
    "w3 = \"reality\"\n",
    "w1_w2_dist = model.distance(w1, w2)\n",
    "w1_w3_dist = model.distance(w1, w3)\n",
    "\n",
    "print(\"Synonyms {}, {} have cosine distance: {}\".format(w1, w2, w1_w2_dist))\n",
    "print(\"Antonyms {}, {} have cosine distance: {}\".format(w1, w3, w1_w3_dist))"
   ]
  },
  {
   "cell_type": "code",
   "execution_count": 11,
   "id": "dc22739d",
   "metadata": {},
   "outputs": [
    {
     "name": "stdout",
     "output_type": "stream",
     "text": [
      "[('queen', 0.8523604273796082),\n",
      " ('throne', 0.7664334177970886),\n",
      " ('prince', 0.7592144012451172),\n",
      " ('daughter', 0.7473882436752319),\n",
      " ('elizabeth', 0.7460220456123352),\n",
      " ('princess', 0.7424570322036743),\n",
      " ('kingdom', 0.7337412238121033),\n",
      " ('monarch', 0.721449077129364),\n",
      " ('eldest', 0.7184861898422241),\n",
      " ('widow', 0.7099431157112122)]\n"
     ]
    }
   ],
   "source": [
    "# Run this cell to answer the analogy -- man : king :: woman : x\n",
    "pprint.pprint(model.most_similar(positive=['woman', 'king'], negative=['man']))"
   ]
  },
  {
   "cell_type": "code",
   "execution_count": 12,
   "id": "f12c1921",
   "metadata": {},
   "outputs": [
    {
     "name": "stdout",
     "output_type": "stream",
     "text": [
      "[('girl', 0.932719886302948),\n",
      " ('woman', 0.859611988067627),\n",
      " ('man', 0.8564430475234985),\n",
      " ('kid', 0.819257915019989),\n",
      " ('mother', 0.8179756999015808),\n",
      " ('teenage', 0.8029857277870178),\n",
      " ('baby', 0.8001460433006287),\n",
      " ('dad', 0.7850530743598938),\n",
      " ('her', 0.7836802005767822),\n",
      " ('old', 0.7815377712249756)]\n"
     ]
    }
   ],
   "source": [
    "pprint.pprint(model.most_similar('boy'))"
   ]
  },
  {
   "cell_type": "code",
   "execution_count": 17,
   "id": "9ed62dfd",
   "metadata": {},
   "outputs": [
    {
     "name": "stdout",
     "output_type": "stream",
     "text": [
      "Running Truncated SVD over 1 words...\n",
      "Done.\n",
      "Running Truncated SVD over 1 words...\n",
      "Done.\n",
      "Running Truncated SVD over 1 words...\n",
      "Done.\n",
      "Running Truncated SVD over 1 words...\n",
      "Done.\n",
      "Running Truncated SVD over 1 words...\n",
      "Done.\n",
      "Running Truncated SVD over 1 words...\n",
      "Done.\n",
      "Running Truncated SVD over 1 words...\n",
      "Done.\n",
      "Running Truncated SVD over 1 words...\n",
      "Done.\n",
      "Running Truncated SVD over 1 words...\n",
      "Done.\n",
      "Running Truncated SVD over 1 words...\n",
      "Done.\n",
      "Running Truncated SVD over 1 words...\n",
      "Done.\n",
      "Running Truncated SVD over 1 words...\n",
      "Done.\n",
      "Running Truncated SVD over 1 words...\n",
      "Done.\n",
      "Running Truncated SVD over 1 words...\n",
      "Done.\n",
      "Running Truncated SVD over 1 words...\n",
      "Done.\n",
      "Running Truncated SVD over 1 words...\n",
      "Done.\n",
      "Running Truncated SVD over 1 words...\n",
      "Done.\n",
      "Running Truncated SVD over 1 words...\n",
      "Done.\n",
      "Running Truncated SVD over 1 words...\n",
      "Done.\n",
      "Running Truncated SVD over 1 words...\n",
      "Done.\n"
     ]
    },
    {
     "data": {
      "image/png": "[encoded data removed]",
      "text/plain": [
       "<Figure size 720x360 with 1 Axes>"
      ]
     },
     "metadata": {
      "needs_background": "light"
     },
     "output_type": "display_data"
    }
   ],
   "source": [
    "words = ['barrels', 'bpd', 'ecuador', 'energy', 'industry', 'kuwait', 'oil', 'output', 'petroleum', 'venezuela']\n",
    "plot_embeddings(model, words)"
   ]
  },
  {
   "cell_type": "code",
   "execution_count": null,
   "id": "82b251ef",
   "metadata": {},
   "outputs": [],
   "source": []
  },
  {
   "cell_type": "code",
   "execution_count": null,
   "id": "5e46f2b2",
   "metadata": {},
   "outputs": [],
   "source": []
  },
  {
   "cell_type": "markdown",
   "id": "1a4e598a",
   "metadata": {},
   "source": [
    "### Power of Vectors"
   ]
  },
  {
   "cell_type": "code",
   "execution_count": 31,
   "id": "36b2c2b9",
   "metadata": {},
   "outputs": [],
   "source": [
    "glove_file = datapath('/Users/amansawarn/Documents/tech/iitd/Building-Search-and-Recommendations-Together/glove_6B/glove.6B.300d.txt')\n",
    "tmp_file = get_tmpfile(\"test_word2vec.txt\")\n",
    "\n",
    "_ = glove2word2vec(glove_file, tmp_file)\n",
    "\n",
    "model = KeyedVectors.load_word2vec_format(tmp_file)\n"
   ]
  },
  {
   "cell_type": "code",
   "execution_count": 33,
   "id": "021473bc",
   "metadata": {},
   "outputs": [
    {
     "name": "stdout",
     "output_type": "stream",
     "text": [
      "Synonyms magic, trickery have cosine distance: 0.7891970723867416\n",
      "Antonyms magic, reality have cosine distance: 0.7379191219806671\n",
      "=*=*=*=*=*=*=*=*=*=*=*=*=*=*=*=*=*=*=*=*=*=*=*=*=*=*=*=*=*=*=*=*=*=*=*=*=*=*=*=*\n",
      "Synonyms london, trickery have cosine distance: 1.0854259356856346\n",
      "Antonyms london, reality have cosine distance: 0.9164830222725868\n"
     ]
    }
   ],
   "source": [
    "w1 = \"magic\"\n",
    "w2 = \"trickery\"\n",
    "w3 = \"reality\"\n",
    "w1_w2_dist = model.distance(w1, w2)\n",
    "w1_w3_dist = model.distance(w1, w3)\n",
    "\n",
    "print(\"Synonyms {}, {} have cosine distance: {}\".format(w1, w2, w1_w2_dist))\n",
    "print(\"Antonyms {}, {} have cosine distance: {}\".format(w1, w3, w1_w3_dist))\n",
    "print(\"=*\"*40)\n",
    "\n",
    "w1 = \"london\"\n",
    "w2 = \"trickery\"\n",
    "w3 = \"reality\"\n",
    "w1_w2_dist = model.distance(w1, w2)\n",
    "w1_w3_dist = model.distance(w1, w3)\n",
    "\n",
    "print(\"Synonyms {}, {} have cosine distance: {}\".format(w1, w2, w1_w2_dist))\n",
    "print(\"Antonyms {}, {} have cosine distance: {}\".format(w1, w3, w1_w3_dist))"
   ]
  },
  {
   "cell_type": "code",
   "execution_count": 34,
   "id": "d272750f",
   "metadata": {},
   "outputs": [
    {
     "name": "stdout",
     "output_type": "stream",
     "text": [
      "[('queen', 0.6713276505470276),\n",
      " ('princess', 0.5432624220848083),\n",
      " ('throne', 0.5386105179786682),\n",
      " ('monarch', 0.5347574353218079),\n",
      " ('daughter', 0.498025119304657),\n",
      " ('mother', 0.49564430117607117),\n",
      " ('elizabeth', 0.4832652509212494),\n",
      " ('kingdom', 0.47747090458869934),\n",
      " ('prince', 0.4668239951133728),\n",
      " ('wife', 0.46473267674446106)]\n"
     ]
    }
   ],
   "source": [
    "# Run this cell to answer the analogy -- man : king :: woman : x\n",
    "pprint.pprint(model.most_similar(positive=['woman', 'king'], negative=['man']))"
   ]
  },
  {
   "cell_type": "code",
   "execution_count": 35,
   "id": "024336f5",
   "metadata": {},
   "outputs": [
    {
     "name": "stdout",
     "output_type": "stream",
     "text": [
      "[('girl', 0.8272891044616699),\n",
      " ('boys', 0.681233286857605),\n",
      " ('kid', 0.655293345451355),\n",
      " ('man', 0.6208277940750122),\n",
      " ('teenage', 0.5973849296569824),\n",
      " ('child', 0.5952883362770081),\n",
      " ('teenager', 0.5896497964859009),\n",
      " ('father', 0.5800690054893494),\n",
      " ('girls', 0.5745473504066467),\n",
      " ('son', 0.5726956129074097)]\n"
     ]
    }
   ],
   "source": [
    "pprint.pprint(model.most_similar('boy'))"
   ]
  },
  {
   "cell_type": "code",
   "execution_count": 40,
   "id": "d2fb94a8",
   "metadata": {},
   "outputs": [
    {
     "data": {
      "image/png": "[encoded data removed]",
      "text/plain": [
       "<Figure size 720x360 with 1 Axes>"
      ]
     },
     "metadata": {
      "needs_background": "light"
     },
     "output_type": "display_data"
    }
   ],
   "source": [
    "words = ['barrels', 'bpd', 'ecuador', 'energy', 'industry', 'kuwait', 'oil', 'output', 'petroleum', 'venezuela']\n",
    "plot_embeddings(model, words)"
   ]
  },
  {
   "cell_type": "code",
   "execution_count": 42,
   "id": "61bf051e",
   "metadata": {},
   "outputs": [
    {
     "data": {
      "image/png": "[encoded data removed]",
      "text/plain": [
       "<Figure size 720x360 with 1 Axes>"
      ]
     },
     "metadata": {
      "needs_background": "light"
     },
     "output_type": "display_data"
    }
   ],
   "source": [
    "words = ['barrels', 'output', 'petroleum', 'venezuela', 'cat','tiger', 'dog', 'horse', 'cheetah', 'lion']\n",
    "plot_embeddings(model, words)"
   ]
  },
  {
   "cell_type": "markdown",
   "id": "03c2f8ae",
   "metadata": {},
   "source": [
    "### References\n",
    "\n",
    "1. https://nlp.stanford.edu/projects/glove/\n",
    "2. https://radimrehurek.com/gensim/scripts/glove2word2vec.html\n",
    "3. https://github.com/leehanchung/cs224n/blob/master/a1/exploring_word_vectors.ipynb"
   ]
  },
  {
   "cell_type": "code",
   "execution_count": 29,
   "id": "84f3ffe9",
   "metadata": {},
   "outputs": [
    {
     "data": {
      "text/plain": [
       "50"
      ]
     },
     "execution_count": 29,
     "metadata": {},
     "output_type": "execute_result"
    }
   ],
   "source": [
    "len(glove_model['king'])"
   ]
  },
  {
   "cell_type": "code",
   "execution_count": null,
   "id": "35ba6ee7",
   "metadata": {},
   "outputs": [],
   "source": []
  }
 ],
 "metadata": {
  "kernelspec": {
   "display_name": "Python 3 (ipykernel)",
   "language": "python",
   "name": "python3"
  },
  "language_info": {
   "codemirror_mode": {
    "name": "ipython",
    "version": 3
   },
   "file_extension": ".py",
   "mimetype": "text/x-python",
   "name": "python",
   "nbconvert_exporter": "python",
   "pygments_lexer": "ipython3",
   "version": "3.9.12"
  }
 },
 "nbformat": 4,
 "nbformat_minor": 5
}
